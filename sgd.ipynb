{
 "cells": [
  {
   "attachments": {},
   "cell_type": "markdown",
   "metadata": {},
   "source": [
    "# Stochastic Gradient Descent"
   ]
  },
  {
   "attachments": {},
   "cell_type": "markdown",
   "metadata": {},
   "source": [
    "- Effective when the dataset is large, has many features, has many redundancies in data, and the from of the gradient is a sum.\n",
    "- More commonly, instead of randomly selecting one data, the program can select a small subset of data (called a `minibatch`) for each step. This method gives more stable estimation and is faster.\n",
    "- Stochastic gradient descent in general has lower testing error because of less overfit\n",
    "- It is also less likely to be trapped by shallow local optima"
   ]
  },
  {
   "cell_type": "code",
   "execution_count": 36,
   "metadata": {},
   "outputs": [],
   "source": [
    "import numpy as np\n",
    "import matplotlib.pyplot as plt\n",
    "import random"
   ]
  },
  {
   "cell_type": "code",
   "execution_count": 37,
   "metadata": {},
   "outputs": [],
   "source": [
    "def sgd(gradient, x, y, start, learn_rate=0.1, batch_size=1, n_iter=50, tolerance=1e-06, dtype=\"float64\", random_state=None):\n",
    "    \"\"\"\n",
    "        batch_size: number of observations in each minibatch; can significantly influence performance\n",
    "        random_state: random seed; if None is passed, then it return different number each time\n",
    "    \"\"\"\n",
    "    dtype_ = np.dtype(dtype)\n",
    "    \n",
    "    #convert x and y to np arrays\n",
    "    x, y = np.array(x, dtype=dtype_), np.array(y, dtype=dtype_)\n",
    "    n_obs = x.shape[0]\n",
    "    \n",
    "    #reshape converts both x and y into two-dim arrays with n_obs rows and y has exactly one column\n",
    "    #np.c_[] concatenates columns of x and y into a single array\n",
    "    xy = np.c_[x.reshape(n_obs, -1), y.reshape(n_obs, 1)]\n",
    "    \n",
    "    #random generator\n",
    "    seed = None if random_state is None else int(random_state)\n",
    "    rng = np.random.default_rng(seed=seed)\n",
    "    \n",
    "    #variable setup\n",
    "    vector = np.array(start, dtype=dtype_)\n",
    "    learn_rate = np.array(learn_rate, dtype=dtype_)\n",
    "    \n",
    "    #minibatches setup\n",
    "    batch_size = int(batch_size)\n",
    "\n",
    "    #max iterations setup\n",
    "    n_iter = int(n_iter)\n",
    "    \n",
    "    #tolerance setup\n",
    "    tolerance = np.array(tolerance, dtype=dtype_)\n",
    "    \n",
    "    #gradient descent\n",
    "    for _ in range(n_iter):\n",
    "        #shuffle x and y to choose minibatches randomly\n",
    "        rng.shuffle(xy)\n",
    "        \n",
    "        #repeated by every batch\n",
    "        for start in range(0, n_obs, batch_size):\n",
    "            stop = start + batch_size\n",
    "            x_batch, y_batch = xy[start:stop, :-1], xy[start:stop, -1:]\n",
    "\n",
    "            #recalculate difference\n",
    "            grad = np.array(gradient(x_batch, y_batch, vector), dtype_)\n",
    "            diff = -learn_rate * grad\n",
    "            \n",
    "            #check tolerance\n",
    "            if np.all(np.abs(diff) <= tolerance):\n",
    "                break\n",
    "            \n",
    "            #update values\n",
    "            vector += diff\n",
    "\n",
    "    return vector if vector.shape else vector.item()"
   ]
  },
  {
   "cell_type": "code",
   "execution_count": 38,
   "metadata": {},
   "outputs": [],
   "source": [
    "def ssr_gradient(x, y, b):\n",
    "    res = b[0] + b[1] * x - y\n",
    "    #mean of res is partial C over partial b0\n",
    "    #mean of (res*x) is partial C over partial b1\n",
    "    return res.mean(), (res * x).mean()"
   ]
  },
  {
   "cell_type": "code",
   "execution_count": 39,
   "metadata": {},
   "outputs": [
    {
     "data": {
      "text/plain": [
       "array([ 0.49517273, -2.17377546])"
      ]
     },
     "execution_count": 39,
     "metadata": {},
     "output_type": "execute_result"
    }
   ],
   "source": [
    "x = np.linspace(-3, 3, 100)\n",
    "y = [i**4-5*i**2-3*i for i in x]\n",
    "sgd(\n",
    "    ssr_gradient, x, y, start=[0.5, 0.5]\n",
    ")"
   ]
  }
 ],
 "metadata": {
  "kernelspec": {
   "display_name": "base",
   "language": "python",
   "name": "python3"
  },
  "language_info": {
   "codemirror_mode": {
    "name": "ipython",
    "version": 3
   },
   "file_extension": ".py",
   "mimetype": "text/x-python",
   "name": "python",
   "nbconvert_exporter": "python",
   "pygments_lexer": "ipython3",
   "version": "3.9.1"
  },
  "orig_nbformat": 4
 },
 "nbformat": 4,
 "nbformat_minor": 2
}
